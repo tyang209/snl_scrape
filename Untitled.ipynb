{
 "cells": [
  {
   "cell_type": "code",
   "execution_count": 99,
   "metadata": {
    "collapsed": false
   },
   "outputs": [],
   "source": [
    "from selenium import webdriver\n",
    "from selenium.webdriver.common.by import By\n",
    "import time\n",
    "import json\n",
    "from bs4 import BeautifulSoup\n",
    "from selenium.common.exceptions import ElementNotVisibleException, NoSuchElementException "
   ]
  },
  {
   "cell_type": "code",
   "execution_count": 2,
   "metadata": {
    "collapsed": false
   },
   "outputs": [],
   "source": [
    "profile_links = []\n",
    "with open('cast_link_season.csv','rb') as f:\n",
    "    lines = f.readlines()\n",
    "\n",
    "for line in lines:\n",
    "    if line.split(',')[1].replace('\"','') not in profile_links:\n",
    "        profile_links.append(line.split(',')[1].replace('\"',''))\n"
   ]
  },
  {
   "cell_type": "code",
   "execution_count": 19,
   "metadata": {
    "collapsed": false
   },
   "outputs": [
    {
     "data": {
      "text/plain": [
       "'seth meyers'"
      ]
     },
     "execution_count": 19,
     "metadata": {},
     "output_type": "execute_result"
    }
   ],
   "source": [
    "' '.join(profile_links[0].split('/')[-1].split('-')[:-1]).strip()"
   ]
  },
  {
   "cell_type": "code",
   "execution_count": 43,
   "metadata": {
    "collapsed": false
   },
   "outputs": [],
   "source": [
    "driver = webdriver.Chrome(\"/Users/tyang/projects/snl_scrape/chromedriver\")\n",
    "# driver = webdriver.Chrome()\n",
    "# driver.get(snl_URL)"
   ]
  },
  {
   "cell_type": "code",
   "execution_count": 78,
   "metadata": {
    "collapsed": false
   },
   "outputs": [
    {
     "data": {
      "text/plain": [
       "143"
      ]
     },
     "execution_count": 78,
     "metadata": {},
     "output_type": "execute_result"
    }
   ],
   "source": [
    "len(profile_links)"
   ]
  },
  {
   "cell_type": "code",
   "execution_count": 98,
   "metadata": {
    "collapsed": false
   },
   "outputs": [
    {
     "name": "stdout",
     "output_type": "stream",
     "text": [
      "http://www.nbc.com/saturday-night-live/cast/ana-gasteyer-14926\n",
      "http://www.nbc.com/saturday-night-live/cast/laura-kightlinger-14731\n",
      "http://www.nbc.com/saturday-night-live/cast/cecily-strong-15431\n",
      "http://www.nbc.com/saturday-night-live/cast/chevy-chase-15446\n",
      "http://www.nbc.com/saturday-night-live/cast/jim-downey-14911\n",
      "http://www.nbc.com/saturday-night-live/cast/aidy-bryant-14761\n",
      "http://www.nbc.com/saturday-night-live/cast/denny-dillon-15061\n",
      "http://www.nbc.com/saturday-night-live/cast/mike-obrien-15026\n",
      "http://www.nbc.com/saturday-night-live/cast/jim-breuer-14901\n"
     ]
    }
   ],
   "source": [
    "for link in profile_links[134:]:\n",
    "    link = 'http://www.nbc.com'+link\n",
    "#     link = 'http://www.nbc.com/saturday-night-live/cast/seth-meyers-15366'\n",
    "    print link\n",
    "    driver.get(link)\n",
    "    time.sleep(3)\n",
    "    actor_name = ' '.join(link.split('/')[-1].split('-')[:-1]).strip()\n",
    "    \n",
    "    actor_dict = {}\n",
    "    actor_dict['Actor'] = actor_name\n",
    "    \n",
    "    profileArray = getProfileElem()\n",
    "    if profileArray is None:\n",
    "        continue\n",
    "    \n",
    "    buttons = getButtons()\n",
    "    actor_dict['TotalSketches'] = getNumSketches()\n",
    "    characters = []\n",
    "    for index,profile in enumerate(profileArray):\n",
    "        charDict = {}\n",
    "        if index%6==0 and index!=0:\n",
    "            buttons[1].click()\n",
    "            time.sleep(1)\n",
    "        profile.click()\n",
    "        time.sleep(0.3)\n",
    "        charDict['Name'] = getCharacterName(profile)\n",
    "        charDict['NumberSketches'] = getNumSketches()\n",
    "        charDict['CharacterType'] = getCharacterType(driver.current_url)\n",
    "        charDict['SketchLinks'] = getSketchLinks()\n",
    "        charDict['CharacterURL'] = driver.current_url\n",
    "\n",
    "        characters.append(charDict)\n",
    "    actor_dict['Characters'] = characters\n",
    "    data.append(actor_dict)"
   ]
  },
  {
   "cell_type": "code",
   "execution_count": 47,
   "metadata": {
    "collapsed": false
   },
   "outputs": [],
   "source": [
    "def getButtons():\n",
    "    elem = driver.find_element_by_xpath(\"//div[contains(@class,'profile')]\")\n",
    "    buttons = driver.find_element_by_xpath(\"//div[contains(@class,'owl-buttons')]\")\n",
    "    return buttons.find_elements(By.TAG_NAME,'div')\n",
    "    \n",
    "def getProfileElem():\n",
    "    try:\n",
    "        elem = driver.find_element_by_xpath(\"//div[contains(@class,'owl-wrapper-outer')]\")\n",
    "        profiles = elem.find_elements(By.CLASS_NAME,'owl-item')\n",
    "        return profiles\n",
    "    except NoSuchElementException:\n",
    "        return None\n",
    "        \n",
    "\n",
    "def getCharacterNameNoSketch(profile):\n",
    "    elem = profile.find_element(By.CLASS_NAME,'profile-item__name')\n",
    "    soup = BeautifulSoup(elem.get_attribute('innerHTML'))\n",
    "    return soup.div.text\n",
    "\n",
    "def getCharacterName(profile):\n",
    "    try:\n",
    "        title = driver.find_element(By.CLASS_NAME,'section-title_highlight')\n",
    "        soup = BeautifulSoup(title.get_attribute('innerHTML'))\n",
    "        return soup.text\n",
    "    except (ElementNotVisibleException,NoSuchElementException):\n",
    "        return getCharacterNameNoSketch(profile)\n",
    "    \n",
    "def getNumSketches():\n",
    "    try:\n",
    "        sketch_count = driver.find_element(By.CLASS_NAME,'number')\n",
    "        soup = BeautifulSoup(sketch_count.get_attribute('innerHTML'))\n",
    "\n",
    "        return soup.text\n",
    "    except NoSuchElementException:\n",
    "        return 1\n",
    "def getSketchLinks():\n",
    "    try:\n",
    "        sketch_links_elem = driver.find_element_by_xpath(\"//main[contains(@id,'main')]\"+\n",
    "                                       \"//div[contains(@class,'page-explore')]//ul\")\n",
    "        sketch_links_soup = BeautifulSoup(sketch_links_elem.get_attribute('innerHTML'))\n",
    "\n",
    "        links = sketch_links_soup.find_all('a',{'class':'type'})\n",
    "        return [link['href'] for link in links]\n",
    "    except NoSuchElementException:\n",
    "        return None\n",
    "def getCharacterType(url):\n",
    "    \n",
    "    return url.split('/')[-2]\n"
   ]
  },
  {
   "cell_type": "code",
   "execution_count": 97,
   "metadata": {
    "collapsed": false
   },
   "outputs": [
    {
     "name": "stdout",
     "output_type": "stream",
     "text": [
      "tony rosato\n",
      "a whitney brown\n",
      "robin duke\n",
      "mary gross\n",
      "charles rocket\n"
     ]
    },
    {
     "data": {
      "text/plain": [
       "'/saturday-night-live/cast/ana-gasteyer-14926'"
      ]
     },
     "execution_count": 97,
     "metadata": {},
     "output_type": "execute_result"
    }
   ],
   "source": [
    "for line in data[-5:]:\n",
    "    print line['Actor']\n",
    "# for line in profile_links:\n",
    "#     print line\n",
    "profile_links[134]"
   ]
  },
  {
   "cell_type": "code",
   "execution_count": null,
   "metadata": {
    "collapsed": true
   },
   "outputs": [],
   "source": []
  }
 ],
 "metadata": {
  "kernelspec": {
   "display_name": "Python 2",
   "language": "python",
   "name": "python2"
  },
  "language_info": {
   "codemirror_mode": {
    "name": "ipython",
    "version": 2
   },
   "file_extension": ".py",
   "mimetype": "text/x-python",
   "name": "python",
   "nbconvert_exporter": "python",
   "pygments_lexer": "ipython2",
   "version": "2.7.9"
  }
 },
 "nbformat": 4,
 "nbformat_minor": 0
}
