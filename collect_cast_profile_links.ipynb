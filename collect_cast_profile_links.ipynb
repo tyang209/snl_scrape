{
 "cells": [
  {
   "cell_type": "code",
   "execution_count": 12,
   "metadata": {
    "collapsed": true
   },
   "outputs": [],
   "source": [
    "from selenium import webdriver\n",
    "from bs4 import BeautifulSoup"
   ]
  },
  {
   "cell_type": "code",
   "execution_count": 10,
   "metadata": {
    "collapsed": false
   },
   "outputs": [],
   "source": [
    "snl_URL = 'http://www.nbc.com/saturday-night-live/explore/season-40'\n",
    "driver = webdriver.Chrome(\"/Users/tyang/projects/snl_scrape/chromedriver\")\n",
    "driver.get(snl_URL)"
   ]
  },
  {
   "cell_type": "code",
   "execution_count": 61,
   "metadata": {
    "collapsed": true
   },
   "outputs": [],
   "source": [
    "#init profile link arrays \n",
    "profile_links = {}"
   ]
  },
  {
   "cell_type": "code",
   "execution_count": 129,
   "metadata": {
    "collapsed": false
   },
   "outputs": [
    {
     "name": "stdout",
     "output_type": "stream",
     "text": [
      "/saturday-night-live/cast/seth-meyers-15366 [27, 28, 29, 30, 31, 32, 33, 34, 35, 36, 37, 38, 39]\n",
      "/saturday-night-live/cast/phil-hartman-15351 [12, 13, 14, 14, 15, 16, 17, 18, 19]\n",
      "/saturday-night-live/cast/beck-bennett-15166 [39, 40]\n",
      "/saturday-night-live/cast/victoria-jackson-15176 [12, 13, 14, 14, 15, 16, 17]\n",
      "/saturday-night-live/cast/george-coe-15161 [1]\n",
      "/saturday-night-live/cast/rob-schneider-15281 [16, 17, 18, 19]\n",
      "/saturday-night-live/cast/michaela-watkins-14986 [34]\n",
      "/saturday-night-live/cast/fred-wolf-15106 [21, 22]\n",
      "/saturday-night-live/cast/julia-louis-dreyfus-15031 [8, 9, 10]\n",
      "/saturday-night-live/cast/joe-piscopo-14966 [6, 7, 7, 8, 9]\n",
      "/saturday-night-live/cast/dan-vitale-14866 [11]\n",
      "/saturday-night-live/cast/chris-farley-15456 [16, 17, 18, 19, 20]\n",
      "/saturday-night-live/cast/jim-belushi-14891 [9, 10]\n",
      "/saturday-night-live/cast/gary-kroeger-15151 [8, 9, 10]\n",
      "/saturday-night-live/cast/eddie-murphy-15071 [6, 7, 7, 8, 9]\n",
      "/saturday-night-live/cast/jay-pharoah-14851 [36, 37, 38, 39, 40]\n",
      "/saturday-night-live/cast/yvonne-hudson-15111 [6]\n",
      "/saturday-night-live/cast/john-milhiser-14991 [39]\n",
      "/saturday-night-live/cast/dennis-miller-15021 [11, 12, 13, 14, 14, 15, 16]\n",
      "/saturday-night-live/cast/brian-doyle-murray-15371 [5, 7, 7]\n",
      "/saturday-night-live/cast/chris-rock-14736 [16, 17, 18]\n",
      "/saturday-night-live/cast/dan-aykroyd-14846 [1, 2, 3, 4]\n",
      "/saturday-night-live/cast/amy-poehler-14841 [27, 28, 29, 30, 31, 32, 33, 34]\n",
      "/saturday-night-live/cast/patrick-weathers-15241 [6]\n",
      "/saturday-night-live/cast/randy-quaid-15386 [11]\n",
      "/saturday-night-live/cast/adam-sandler-14726 [16, 17, 18, 19, 20]\n",
      "/saturday-night-live/cast/jon-lovitz-15001 [11, 12, 13, 14, 14, 15]\n",
      "/saturday-night-live/cast/tracy-morgan-15201 [22, 23, 24, 25, 26, 27, 28]\n",
      "/saturday-night-live/cast/darrell-hammond-14921 [21, 22, 23, 24, 25, 26, 27, 28, 29, 30, 31, 32, 33, 34]\n",
      "/saturday-night-live/cast/gilbert-gottfried-15186 [6]\n",
      "/saturday-night-live/cast/ellen-cleghorne-15076 [17, 18, 19, 20]\n",
      "/saturday-night-live/cast/david-koechner-14946 [21]\n",
      "/saturday-night-live/cast/terry-sweeney-15326 [11]\n",
      "/saturday-night-live/cast/john-belushi-14976 [1, 2, 3, 4]\n",
      "/saturday-night-live/cast/robert-downey-jr-15301 [11]\n",
      "/saturday-night-live/cast/david-spade-14961 [16, 17, 18, 19, 20, 21]\n",
      "/saturday-night-live/cast/tim-kazurinsky-15306 [6, 7, 7, 8, 9]\n",
      "/saturday-night-live/cast/andy-samberg-15011 [31, 32, 33, 34, 35, 36, 37]\n",
      "/saturday-night-live/cast/pete-davidson-15491 [40]\n",
      "/saturday-night-live/cast/joan-cusack-14941 [11]\n",
      "/saturday-night-live/cast/jason-sudeikis-14816 [30, 31, 32, 33, 34, 35, 36, 37, 38]\n",
      "/saturday-night-live/cast/paul-shaffer-15286 [5]\n",
      "/saturday-night-live/cast/matthew-laurance-14881 [6]\n",
      "/saturday-night-live/cast/beth-cahill-15206 [17]\n",
      "/saturday-night-live/cast/jimmy-fallon-14931 [24, 25, 26, 27, 28, 29]\n",
      "/saturday-night-live/cast/jenny-slate-14871 [35]\n",
      "/saturday-night-live/cast/brooks-wheelan-15396 [39]\n",
      "/saturday-night-live/cast/casey-wilson-15426 [33, 34]\n",
      "/saturday-night-live/cast/pamela-stephenson-15216 [10]\n",
      "/saturday-night-live/cast/mike-myers-15006 [14, 14, 15, 16, 17, 18, 19, 20]\n",
      "/saturday-night-live/cast/alan-zweibel-14821 [5]\n",
      "/saturday-night-live/cast/anthony-michael-hall-15146 [11]\n",
      "/saturday-night-live/cast/billy-crystal-15271 [10]\n",
      "/saturday-night-live/cast/chris-kattan-14686 [21, 22, 23, 24, 25, 26, 27, 28]\n",
      "/saturday-night-live/cast/siobhan-fallon-15391 [17]\n",
      "/saturday-night-live/cast/robert-smigel-15321 [17, 18]\n",
      "/saturday-night-live/cast/jane-curtin-14781 [1, 2, 3, 4, 5]\n",
      "/saturday-night-live/cast/christine-ebersole-14756 [7, 7]\n",
      "/saturday-night-live/cast/jay-mohr-14826 [19, 20]\n",
      "/saturday-night-live/cast/will-forte-15126 [28, 29, 30, 31, 32, 33, 34, 35]\n",
      "/saturday-night-live/cast/maya-rudolph-14896 [25, 26, 27, 28, 29, 30, 31, 32, 33]\n",
      "/saturday-night-live/cast/paul-brittain-15261 [36, 37]\n",
      "/saturday-night-live/cast/molly-shannon-15051 [20, 21, 22, 23, 24, 25, 26]\n",
      "/saturday-night-live/cast/will-ferrell-15141 [21, 22, 23, 24, 25, 26, 27]\n",
      "/saturday-night-live/cast/al-franken-14791 [3, 4, 5, 11, 13, 14, 14, 15, 16, 17, 18, 19, 20]\n",
      "/saturday-night-live/cast/kevin-nealon-15096 [12, 13, 14, 14, 15, 16, 17, 18, 19, 20]\n",
      "/saturday-night-live/cast/kate-mckinnon-15056 [37, 38, 39, 40]\n",
      "/saturday-night-live/cast/ann-risley-15036 [6]\n",
      "/saturday-night-live/cast/michael-che-15486 [40]\n",
      "/saturday-night-live/cast/morwenna-banks-15066 [20]\n",
      "/saturday-night-live/cast/peter-aykroyd-15331 [5]\n",
      "/saturday-night-live/cast/chris-parnell-14696 [24, 25, 26, 27, 28, 29, 30, 31]\n",
      "/saturday-night-live/cast/janeane-garofalo-14801 [20]\n",
      "/saturday-night-live/cast/finesse-mitchell-15091 [29, 30, 31]\n",
      "/saturday-night-live/cast/sarah-silverman-15401 [19]\n",
      "/saturday-night-live/cast/jeff-richards-14861 [27, 28, 29]\n",
      "/saturday-night-live/cast/danitra-vance-14906 [11]\n",
      "/saturday-night-live/cast/bill-hader-15226 [31, 32, 33, 34, 35, 36, 37, 38]\n",
      "/saturday-night-live/cast/tom-davis-15246 [3, 4, 5]\n",
      "/saturday-night-live/cast/gail-matthius-15116 [6]\n",
      "/saturday-night-live/cast/melanie-hutsell-14916 [17, 18, 19]\n",
      "/saturday-night-live/cast/ben-stiller-15191 [14, 14]\n",
      "/saturday-night-live/cast/laurie-metcalf-14746 [6]\n",
      "/saturday-night-live/cast/harry-shearer-14711 [5, 10]\n",
      "/saturday-night-live/cast/nancy-walls-15121 [21]\n",
      "/saturday-night-live/cast/rachel-dratch-15376 [25, 26, 27, 28, 29, 30, 31]\n",
      "/saturday-night-live/cast/colin-quinn-14811 [21, 22, 23, 24, 25]\n",
      "/saturday-night-live/cast/michael-mckean-14936 [19, 20]\n",
      "/saturday-night-live/cast/rob-riggle-15251 [30]\n",
      "/saturday-night-live/cast/martin-short-14806 [10]\n",
      "/saturday-night-live/cast/chris-elliott-15451 [20]\n",
      "/saturday-night-live/cast/julia-sweeney-15046 [16, 17, 18, 19]\n",
      "/saturday-night-live/cast/fred-armisen-15101 [28, 29, 30, 31, 32, 33, 34, 35, 36, 37, 38]\n",
      "/saturday-night-live/cast/vanessa-bayer-15181 [36, 37, 38, 39, 40]\n",
      "/saturday-night-live/cast/gilda-radner-14676 [1, 2, 3, 4, 5]\n",
      "/saturday-night-live/cast/tim-robinson-15276 [38]\n",
      "/saturday-night-live/cast/jerry-minor-14876 [26]\n",
      "/saturday-night-live/cast/tom-schiller-15221 [5]\n",
      "/saturday-night-live/cast/kenan-thompson-15086 [29, 30, 31, 32, 33, 34, 35, 36, 37, 38, 39, 40]\n",
      "/saturday-night-live/cast/laraine-newman-14716 [1, 2, 3, 4, 5]\n",
      "/saturday-night-live/cast/michael-odonoghue-14956 [1]\n",
      "/saturday-night-live/cast/bobby-moynihan-15336 [34, 35, 36, 37, 38, 39, 40]\n",
      "/saturday-night-live/cast/christopher-guest-14776 [10]\n",
      "/saturday-night-live/cast/horatio-sanz-14751 [24, 25, 26, 27, 28, 29, 30, 31]\n",
      "/saturday-night-live/cast/norm-macdonald-15196 [19, 20, 21, 22, 23]\n",
      "/saturday-night-live/cast/dana-carvey-14886 [12, 13, 14, 14, 15, 16, 17, 18]\n",
      "/saturday-night-live/cast/tim-meadows-15291 [16, 17, 18, 19, 20, 21, 22, 23, 24, 25]\n",
      "/saturday-night-live/cast/cheri-oteri-15441 [21, 22, 23, 24, 25]\n",
      "/saturday-night-live/cast/nasim-pedrad-15136 [35, 36, 37, 38, 39]\n",
      "/saturday-night-live/cast/taran-killam-15346 [36, 37, 38, 39, 40]\n",
      "/saturday-night-live/cast/jan-hooks-14766 [12, 13, 14, 14, 15, 16]\n",
      "/saturday-night-live/cast/abby-elliott-14681 [34, 35, 36, 37]\n",
      "/saturday-night-live/cast/nora-dunn-15171 [11, 12, 13, 14, 14, 15]\n",
      "/saturday-night-live/cast/damon-wayans-14836 [11]\n",
      "/saturday-night-live/cast/brad-hall-15356 [8, 9]\n",
      "/saturday-night-live/cast/rich-hall-15461 [10]\n",
      "/saturday-night-live/cast/emily-prager-15081 [6]\n",
      "/saturday-night-live/cast/kyle-mooney-14701 [39, 40]\n",
      "/saturday-night-live/cast/sasheer-zamata-15421 [39, 40]\n",
      "/saturday-night-live/cast/colin-jost-14796 [39, 40]\n",
      "/saturday-night-live/cast/kristen-wiig-14671 [31, 32, 33, 34, 35, 36, 37]\n",
      "/saturday-night-live/cast/noel-wells-15156 [39]\n",
      "/saturday-night-live/cast/garrett-morris-15131 [1, 2, 3, 4, 5]\n",
      "/saturday-night-live/cast/dean-edwards-14981 [27, 28]\n",
      "/saturday-night-live/cast/leslie-jones-15496 [40]\n",
      "/saturday-night-live/cast/tina-fey-15266 [26, 27, 28, 29, 30, 31]\n",
      "/saturday-night-live/cast/mark-mckinney-14786 [20, 21, 22]\n",
      "/saturday-night-live/cast/don-novello-15041 [5, 11]\n",
      "/saturday-night-live/cast/bill-murray-15256 [2, 3, 4, 5]\n",
      "/saturday-night-live/cast/tony-rosato-15211 [6, 7, 7]\n",
      "/saturday-night-live/cast/a-whitney-brown-14666 [11, 12, 13, 14, 14, 15, 16]\n",
      "/saturday-night-live/cast/robin-duke-15341 [6, 7, 7, 8, 9]\n",
      "/saturday-night-live/cast/mary-gross-14831 [7, 7, 8, 9, 10]\n",
      "/saturday-night-live/cast/charles-rocket-15436 [6]\n",
      "/saturday-night-live/cast/ana-gasteyer-14926 [22, 23, 24, 25, 26, 27]\n",
      "/saturday-night-live/cast/laura-kightlinger-14731 [20]\n",
      "/saturday-night-live/cast/cecily-strong-15431 [38, 39, 40]\n",
      "/saturday-night-live/cast/chevy-chase-15446 [1, 2]\n",
      "/saturday-night-live/cast/jim-downey-14911 [5]\n",
      "/saturday-night-live/cast/aidy-bryant-14761 [38, 39, 40]\n",
      "/saturday-night-live/cast/denny-dillon-15061 [6]\n",
      "/saturday-night-live/cast/mike-obrien-15026 [39]\n",
      "/saturday-night-live/cast/jim-breuer-14901 [21, 22, 23]\n"
     ]
    }
   ],
   "source": [
    "profiles = driver.find_elements_by_xpath(\"//li[contains(@class,'profile-item')]\")\n",
    "season_num_elem = driver.find_element_by_xpath(\"//h1[contains(@class,'section-title')]\")\n",
    "season_num = returnSeasonNum(season_num_elem)\n",
    "for elem in profiles:\n",
    "    soup = BeautifulSoup(elem.get_attribute('innerHTML'))\n",
    "    profile_link = soup.find('a')['href'] \n",
    "    if profile_link not in profile_links:\n",
    "        profile_links[profile_link] = [season_num]\n",
    "    else:\n",
    "        profile_links[profile_link] = profile_links[profile_link]+ [season_num]\n",
    "\n"
   ]
  },
  {
   "cell_type": "code",
   "execution_count": 60,
   "metadata": {
    "collapsed": false
   },
   "outputs": [],
   "source": [
    "def returnSeasonNum(webElem):\n",
    "    soup = BeautifulSoup(webElem.get_attribute('innerHTML'))\n",
    "    return int(soup.find_all('span')[1].text)\n",
    "    \n",
    "\n"
   ]
  },
  {
   "cell_type": "code",
   "execution_count": 155,
   "metadata": {
    "collapsed": false
   },
   "outputs": [],
   "source": [
    "with open('cast_link_season.csv','wb') as f:\n",
    "    for k,v in profile_links2.iteritems():\n",
    "        cast_name = ' '.join(k.split('/')[-1].split('-')[:-1]).strip()\n",
    "        for season in v:\n",
    "            f.write(cast_name+',\"'+k+'\",'+str(season)+'\\n')"
   ]
  },
  {
   "cell_type": "code",
   "execution_count": 138,
   "metadata": {
    "collapsed": false
   },
   "outputs": [],
   "source": [
    "profile_links2 = profile_links\n",
    "for k,v in profile_links2.iteritems():\n",
    "    profile_links2[k] = [x for x in sorted(set(v))]"
   ]
  }
 ],
 "metadata": {
  "kernelspec": {
   "display_name": "Python 2",
   "language": "python",
   "name": "python2"
  },
  "language_info": {
   "codemirror_mode": {
    "name": "ipython",
    "version": 2
   },
   "file_extension": ".py",
   "mimetype": "text/x-python",
   "name": "python",
   "nbconvert_exporter": "python",
   "pygments_lexer": "ipython2",
   "version": "2.7.9"
  }
 },
 "nbformat": 4,
 "nbformat_minor": 0
}
